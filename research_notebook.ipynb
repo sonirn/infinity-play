{
 "cells": [
  {
   "cell_type": "markdown",
   "metadata": {},
   "source": [
    "# Blockchain Technology Research\n",
    "\n",
    "This notebook demonstrates blockchain concepts and implementation for research purposes."
   ]
  },
  {
   "cell_type": "code",
   "execution_count": null,
   "metadata": {},
   "outputs": [],
   "source": [
    "# Import necessary libraries\n",
    "import sys\n",
    "import os\n",
    "import time\n",
    "import hashlib\n",
    "import json\n",
    "import matplotlib.pyplot as plt\n",
    "\n",
    "# Add parent directory to path to import our modules\n",
    "sys.path.append('..')\n",
    "from blockchain_core import Blockchain, Block\n",
    "from mining_simulation import run_simulation"
   ]
  },
  {
   "cell_type": "markdown",
   "metadata": {},
   "source": [
    "## Blockchain Demonstration\n",
    "\n",
    "First, let's create a blockchain and demonstrate basic operations:"
   ]
  },
  {
   "cell_type": "code",
   "execution_count": null,
   "metadata": {},
   "outputs": [],
   "source": [
    "# Create a new blockchain\n",
    "blockchain = Blockchain()\n",
    "\n",
    "# Default wallet for transactions\n",
    "default_wallet = \"TPMkuHpxfYt21SbT3m6BQJVo4vymozKw1C\"\n",
    "\n",
    "# Add some transactions\n",
    "print(\"Adding transactions to the blockchain...\")\n",
    "blockchain.add_transaction(\"Research Grant\", default_wallet, 100)\n",
    "blockchain.add_transaction(default_wallet, \"Lab Equipment\", 45)\n",
    "blockchain.add_transaction(\"University\", default_wallet, 75)\n",
    "\n",
    "# Mine the block\n",
    "print(\"\\nMining block...\")\n",
    "blockchain.mine_pending_transactions(default_wallet)"
   ]
  },
  {
   "cell_type": "markdown",
   "metadata": {},
   "source": [
    "## Mining Performance Analysis\n",
    "\n",
    "Let's measure the performance of our mining algorithm with different difficulty levels:"
   ]
  },
  {
   "cell_type": "code",
   "execution_count": null,
   "metadata": {},
   "outputs": [],
   "source": [
    "# Function to measure performance\n",
    "def measure_performance(complexity_levels=[3, 4]):\n",
    "    results = []\n",
    "    for level in complexity_levels:\n",
    "        print(f\"\\nTesting difficulty level {level}...\")\n",
    "        start_time = time.time()\n",
    "        hash_result, iterations = run_simulation(difficulty=level)\n",
    "        elapsed = time.time() - start_time\n",
    "        \n",
    "        results.append({\n",
    "            'difficulty': level,\n",
    "            'time': elapsed,\n",
    "            'iterations': iterations,\n",
    "            'hashes_per_second': iterations / elapsed if elapsed > 0 else 0\n",
    "        })\n",
    "        \n",
    "    return results\n",
    "\n",
    "# Run performance tests\n",
    "performance_results = measure_performance([3])\n",
    "\n",
    "# Display results\n",
    "for result in performance_results:\n",
    "    print(f\"\\nDifficulty {result['difficulty']}:\")\n",
    "    print(f\"Time: {result['time']:.2f} seconds\")\n",
    "    print(f\"Iterations: {result['iterations']:,}\")\n",
    "    print(f\"Speed: {result['hashes_per_second']:,.2f} hashes/second\")"
   ]
  },
  {
   "cell_type": "markdown",
   "metadata": {},
   "source": [
    "## Blockchain Validation and Visualization\n",
    "\n",
    "Finally, let's validate our blockchain and visualize some data:"
   ]
  },
  {
   "cell_type": "code",
   "execution_count": null,
   "metadata": {},
   "outputs": [],
   "source": [
    "# Validate blockchain\n",
    "print(\"Validating blockchain integrity...\")\n",
    "is_valid = blockchain.is_chain_valid()\n",
    "print(f\"Blockchain is valid: {is_valid}\")\n",
    "\n",
    "# Display blockchain\n",
    "blockchain.display_chain()\n",
    "\n",
    "# Create a simple visualization\n",
    "blocks = len(blockchain.chain)\n",
    "transactions = sum(len(block.transactions) for block in blockchain.chain)\n",
    "\n",
    "plt.figure(figsize=(10, 6))\n",
    "plt.bar(['Blocks', 'Transactions'], [blocks, transactions])\n",
    "plt.title('Blockchain Statistics')\n",
    "plt.ylabel('Count')\n",
    "plt.show()"
   ]
  }
 ],
 "metadata": {
  "kernelspec": {
   "display_name": "Python 3",
   "language": "python",
   "name": "python3"
  },
  "language_info": {
   "codemirror_mode": {
    "name": "ipython",
    "version": 3
   },
   "file_extension": ".py",
   "mimetype": "text/x-python",
   "name": "python",
   "nbconvert_exporter": "python",
   "pygments_lexer": "ipython3",
   "version": "3.8.10"
  }
 },
 "nbformat": 4,
 "nbformat_minor": 4
}
